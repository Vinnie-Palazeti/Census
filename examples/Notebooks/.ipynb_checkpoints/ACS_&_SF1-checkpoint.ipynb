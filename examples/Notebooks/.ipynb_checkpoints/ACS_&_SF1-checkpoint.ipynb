{
 "cells": [
  {
   "cell_type": "markdown",
   "metadata": {
    "id": "UtvgYuCOkCID"
   },
   "source": [
    "Census API Query\n",
    "\n",
    "Change variables above 'base_url' to alter data queried\n",
    "\n",
    "The 'cols' is the variable(s) you want to receive\n",
    "\n",
    "For examples of variables check the census variables website linked.\n"
   ]
  },
  {
   "cell_type": "markdown",
   "metadata": {
    "id": "PqGJWiETR18Z"
   },
   "source": [
    "## ACS 1"
   ]
  },
  {
   "cell_type": "markdown",
   "metadata": {
    "id": "x532MI2RSYnx"
   },
   "source": [
    "### state > county"
   ]
  },
  {
   "cell_type": "code",
   "execution_count": 1,
   "metadata": {
    "colab": {
     "base_uri": "https://localhost:8080/",
     "height": 80
    },
    "id": "b8u2rLI-R31B",
    "outputId": "3e42eada-2b80-42b4-b292-fcdf6d7fb967"
   },
   "outputs": [
    {
     "ename": "ModuleNotFoundError",
     "evalue": "No module named 'requests'",
     "output_type": "error",
     "traceback": [
      "\u001b[1;31m---------------------------------------------------------------------------\u001b[0m",
      "\u001b[1;31mModuleNotFoundError\u001b[0m                       Traceback (most recent call last)",
      "\u001b[1;32m<ipython-input-1-9c3383ca5c3c>\u001b[0m in \u001b[0;36m<module>\u001b[1;34m\u001b[0m\n\u001b[1;32m----> 1\u001b[1;33m \u001b[1;32mimport\u001b[0m \u001b[0mrequests\u001b[0m\u001b[1;33m\u001b[0m\u001b[1;33m\u001b[0m\u001b[0m\n\u001b[0m\u001b[0;32m      2\u001b[0m \u001b[1;32mimport\u001b[0m \u001b[0mpandas\u001b[0m \u001b[1;32mas\u001b[0m \u001b[0mpd\u001b[0m\u001b[1;33m\u001b[0m\u001b[1;33m\u001b[0m\u001b[0m\n\u001b[0;32m      3\u001b[0m \u001b[1;33m\u001b[0m\u001b[0m\n\u001b[0;32m      4\u001b[0m \u001b[1;31m# variable list\u001b[0m\u001b[1;33m\u001b[0m\u001b[1;33m\u001b[0m\u001b[1;33m\u001b[0m\u001b[0m\n\u001b[0;32m      5\u001b[0m \u001b[1;31m#https://api.census.gov/data/2018/acs/acs1/variables.html\u001b[0m\u001b[1;33m\u001b[0m\u001b[1;33m\u001b[0m\u001b[1;33m\u001b[0m\u001b[0m\n",
      "\u001b[1;31mModuleNotFoundError\u001b[0m: No module named 'requests'"
     ]
    }
   ],
   "source": [
    "import requests\n",
    "import pandas as pd\n",
    "\n",
    "# variable list\n",
    "#https://api.census.gov/data/2018/acs/acs1/variables.html\n",
    "\n",
    "# example format\n",
    "#https://api.census.gov/data/2018/acs/acs1?get=B00001_001E&for=county:*&in=state:*&key=YOUR_KEY_GOES_HERE\n",
    "\n",
    "year = '2018'\n",
    "dsource = 'acs'\n",
    "dname = 'acs1'\n",
    "cols = 'B07013_003E,NAME'\n",
    "state = '55'\n",
    "county = '*'\n",
    "\n",
    "base_url = f'https://api.census.gov/data/{year}/{dsource}/{dname}/'\n",
    "\n",
    "data_url = f'{base_url}?get={cols}&for=county:{county}&in=state:{state}'\n",
    "\n",
    "response = requests.get(data_url)\n",
    "\n",
    "data = pd.DataFrame(columns=response.json()[0], data=response.json()[1:])\n",
    "data"
   ]
  },
  {
   "cell_type": "markdown",
   "metadata": {
    "id": "wuNkwBNnSn8w"
   },
   "source": [
    "### state > place"
   ]
  },
  {
   "cell_type": "code",
   "execution_count": null,
   "metadata": {
    "id": "8BiyFzDjR3yR"
   },
   "outputs": [],
   "source": [
    "import requests\n",
    "import pandas as pd\n",
    "\n",
    "#https://api.census.gov/data/2018/acs/acs1?get=B00001_001E&for=place:*&in=state:*&key=YOUR_KEY_GOES_HERE\n",
    "\n",
    "year = '2018'\n",
    "dsource = 'acs'\n",
    "dname = 'acs1'\n",
    "cols = 'B00001_001E,NAME'\n",
    "state = '18'\n",
    "place = '*'\n",
    "\n",
    "\n",
    "base_url = f'https://api.census.gov/data/{year}/{dsource}/{dname}/'\n",
    "\n",
    "data_url = f'{base_url}?get={cols}&for=place:{place}&in=state:{state}'\n",
    "\n",
    "response = requests.get(data_url)\n",
    "\n",
    "data = pd.DataFrame(columns=response.json()[0], data=response.json()[1:])\n",
    "data"
   ]
  },
  {
   "cell_type": "markdown",
   "metadata": {
    "id": "9EsUtsxTTfN6"
   },
   "source": [
    "### state > county > subdivision"
   ]
  },
  {
   "cell_type": "code",
   "execution_count": null,
   "metadata": {
    "id": "Md0JJMx7Te_b"
   },
   "outputs": [],
   "source": [
    "import requests\n",
    "import pandas as pd\n",
    "\n",
    "#https://api.census.gov/data/2018/acs/acs1?get=B00001_001E&for=county%20subdivision:*&in=state:36&in=county:*&key=YOUR_KEY_GOES_HERE\n",
    "\n",
    "year = '2018'\n",
    "dsource = 'acs'\n",
    "dname = 'acs1'\n",
    "cols = 'B00001_001E,NAME'\n",
    "state = '18'\n",
    "subdivision = '*'\n",
    "county = '*'\n",
    "\n",
    "base_url = f'https://api.census.gov/data/{year}/{dsource}/{dname}/'\n",
    "\n",
    "data_url = f'{base_url}?get={cols}&for=county%20subdivision:{subdivision}&in=state:{state}&in=county:{county}'\n",
    "\n",
    "response = requests.get(data_url)\n",
    "\n",
    "data = pd.DataFrame(columns=response.json()[0], data=response.json()[1:])\n",
    "data"
   ]
  },
  {
   "cell_type": "markdown",
   "metadata": {
    "id": "Veu55rWoU_nn"
   },
   "source": [
    "### state > congressional district"
   ]
  },
  {
   "cell_type": "code",
   "execution_count": null,
   "metadata": {
    "id": "QQz369MRTe8l"
   },
   "outputs": [],
   "source": [
    "import requests\n",
    "import pandas as pd\n",
    "\n",
    "#https://api.census.gov/data/2018/acs/acs1?get=B00001_001E&for=congressional%20district:*&in=state:*&key=YOUR_KEY_GOES_HERE\n",
    "\n",
    "year = '2018'\n",
    "dsource = 'acs'\n",
    "dname = 'acs1'\n",
    "cols = 'B00001_001E,NAME'\n",
    "state = '18'\n",
    "congressional = '*'\n",
    "\n",
    "base_url = f'https://api.census.gov/data/{year}/{dsource}/{dname}/'\n",
    "\n",
    "data_url = f'{base_url}?get={cols}&for=congressional%20district:{congressional}&in=state:{state}'\n",
    "\n",
    "response = requests.get(data_url)\n",
    "\n",
    "data = pd.DataFrame(columns=response.json()[0], data=response.json()[1:])\n",
    "data\n",
    "\n",
    "\n"
   ]
  },
  {
   "cell_type": "markdown",
   "metadata": {
    "id": "nZDs3vQVWLwS"
   },
   "source": [
    "## ACS 5"
   ]
  },
  {
   "cell_type": "markdown",
   "metadata": {
    "id": "Gal6U-HZWN_r"
   },
   "source": [
    "### state > county"
   ]
  },
  {
   "cell_type": "code",
   "execution_count": null,
   "metadata": {
    "id": "T-Xvc8GeWQGu"
   },
   "outputs": [],
   "source": [
    "import requests\n",
    "import pandas as pd\n",
    "\n",
    "#https://api.census.gov/data/2018/acs/acs5/variables.html\n",
    "\n",
    "#https://api.census.gov/data/2018/acs/acs5?get=B00001_001E&for=county:*&in=state:*&key=YOUR_KEY_GOES_HERE\n",
    "\n",
    "year = '2018'\n",
    "dsource = 'acs'\n",
    "dname = 'acs5'\n",
    "cols = 'B00001_001E,NAME'\n",
    "state = '18'\n",
    "county = '*'\n",
    "\n",
    "base_url = f'https://api.census.gov/data/{year}/{dsource}/{dname}/'\n",
    "\n",
    "data_url = f'{base_url}?get={cols}&for=county:{county}&in=state:{state}'\n",
    "\n",
    "response = requests.get(data_url)\n",
    "\n",
    "data = pd.DataFrame(columns=response.json()[0], data=response.json()[1:])\n",
    "data\n",
    "\n"
   ]
  },
  {
   "cell_type": "markdown",
   "metadata": {
    "id": "IMq4V3q3XE8k"
   },
   "source": [
    "### state > county > tract"
   ]
  },
  {
   "cell_type": "markdown",
   "metadata": {
    "id": "YDVTI0JNjQ_w"
   },
   "source": [
    "Do not change this"
   ]
  },
  {
   "cell_type": "code",
   "execution_count": null,
   "metadata": {
    "id": "fmvFI6OWWQEK"
   },
   "outputs": [],
   "source": [
    "import requests\n",
    "import pandas as pd\n",
    "\n",
    "#https://api.census.gov/data/2018/acs/acs5?get=B00001_001E&for=tract:*&in=state:01&in=county:*&key=YOUR_KEY_GOES_HERE\n",
    "\n",
    "#B02001_001E\n",
    "#B01001_001E\n",
    "#B01003_001E\n",
    "\n",
    "\n",
    "year = '2018'\n",
    "dsource = 'acs'\n",
    "dname = 'acs5'\n",
    "cols = 'B03003_001E,B02001_002E,B02001_003E,B03001_002E,B03003_003E,B03002_003E,B19013_001E,B25008_001E,B25008_003E,NAME'\n",
    "state = '55'\n",
    "county = '079'\n",
    "tract = '*'\n",
    "\n",
    "################################\n",
    "#B01003_001E TOTAL POP\n",
    "#B03003_001E TOTAL POP \n",
    "#B02001_002E WHITE POP\n",
    "#B02001_003E BLACK POP\n",
    "#B03001_002E,B03002_002E,B03003_002E NOT HISPANIC POP\n",
    "#B03002_003E NOT HISPANIC WHITE\n",
    "#B03003_003E,B03002_012E,B03001_003E TOTAL HISPANIC POP\n",
    "\n",
    "#B19013_001E Median Income\n",
    "\n",
    "#B25001_001E Housing Units Total Est\n",
    "#B25002_001E Occupancy Staus\n",
    "\n",
    "# These Two are roughly equivalent\n",
    "#B25003_001E Tenure Total\n",
    "#B25003_002E Owner Occupied\n",
    "#B25003_003E Renter Occupied\n",
    "\n",
    "#B25008_001E Total Population in Occupied Housing Units by Tenure\n",
    "#B25008_002E Owner Occupied\n",
    "#B25008_003E Renter Occupied\n",
    "############\n",
    "\n",
    "\n",
    "names = [\n",
    "         'TOTAL POP',\n",
    "         'WHITE POP',\n",
    "         'BLACK POP',\n",
    "         'NOT HISPANIC POP',\n",
    "         'TOTAL HISPANIC POP',\n",
    "         'NOT HISPANIC WHITE',\n",
    "         'MEDIAN INCOME',\n",
    "         'TOTAL POP IN HOUSING UNITS',\n",
    "         'RENTER OCCUPIED HOUSING UNITS',\n",
    "         'NAME',\n",
    "         'STATE',\n",
    "         'COUNTY',\n",
    "         'GEO_TRACT'\n",
    "        ]\n",
    "\n",
    "base_url = f'https://api.census.gov/data/{year}/{dsource}/{dname}/'\n",
    "\n",
    "data_url = f'{base_url}?get={cols}&for=tract:{tract}&in=state:{state}&in=county:{county}'\n",
    "\n",
    "response = requests.get(data_url)\n",
    "\n",
    "data = pd.DataFrame(columns=names, data=response.json()[1:])\n",
    "data.sort_values(by=['GEO_TRACT'])\n",
    "\n",
    "\n",
    "#data.to_csv('Census Data.csv')\n"
   ]
  },
  {
   "cell_type": "markdown",
   "metadata": {
    "id": "qf4sxu5kXx34"
   },
   "source": [
    "### state > county > tract > block group"
   ]
  },
  {
   "cell_type": "code",
   "execution_count": null,
   "metadata": {
    "colab": {
     "base_uri": "https://localhost:8080/",
     "height": 419
    },
    "id": "Jf-CqhXOXyVm",
    "outputId": "6377beb0-9a61-485e-f1a1-2ced4cfcd09a"
   },
   "outputs": [
    {
     "data": {
      "text/html": [
       "<div>\n",
       "<style scoped>\n",
       "    .dataframe tbody tr th:only-of-type {\n",
       "        vertical-align: middle;\n",
       "    }\n",
       "\n",
       "    .dataframe tbody tr th {\n",
       "        vertical-align: top;\n",
       "    }\n",
       "\n",
       "    .dataframe thead th {\n",
       "        text-align: right;\n",
       "    }\n",
       "</style>\n",
       "<table border=\"1\" class=\"dataframe\">\n",
       "  <thead>\n",
       "    <tr style=\"text-align: right;\">\n",
       "      <th></th>\n",
       "      <th>B06012_001E</th>\n",
       "      <th>NAME</th>\n",
       "      <th>state</th>\n",
       "      <th>county</th>\n",
       "      <th>tract</th>\n",
       "      <th>block group</th>\n",
       "    </tr>\n",
       "  </thead>\n",
       "  <tbody>\n",
       "    <tr>\n",
       "      <th>0</th>\n",
       "      <td>None</td>\n",
       "      <td>Block Group 1, Census Tract 66, Milwaukee Coun...</td>\n",
       "      <td>55</td>\n",
       "      <td>079</td>\n",
       "      <td>006600</td>\n",
       "      <td>1</td>\n",
       "    </tr>\n",
       "    <tr>\n",
       "      <th>1</th>\n",
       "      <td>None</td>\n",
       "      <td>Block Group 3, Census Tract 66, Milwaukee Coun...</td>\n",
       "      <td>55</td>\n",
       "      <td>079</td>\n",
       "      <td>006600</td>\n",
       "      <td>3</td>\n",
       "    </tr>\n",
       "    <tr>\n",
       "      <th>2</th>\n",
       "      <td>None</td>\n",
       "      <td>Block Group 2, Census Tract 70, Milwaukee Coun...</td>\n",
       "      <td>55</td>\n",
       "      <td>079</td>\n",
       "      <td>007000</td>\n",
       "      <td>2</td>\n",
       "    </tr>\n",
       "    <tr>\n",
       "      <th>3</th>\n",
       "      <td>None</td>\n",
       "      <td>Block Group 3, Census Tract 70, Milwaukee Coun...</td>\n",
       "      <td>55</td>\n",
       "      <td>079</td>\n",
       "      <td>007000</td>\n",
       "      <td>3</td>\n",
       "    </tr>\n",
       "    <tr>\n",
       "      <th>4</th>\n",
       "      <td>None</td>\n",
       "      <td>Block Group 2, Census Tract 71, Milwaukee Coun...</td>\n",
       "      <td>55</td>\n",
       "      <td>079</td>\n",
       "      <td>007100</td>\n",
       "      <td>2</td>\n",
       "    </tr>\n",
       "    <tr>\n",
       "      <th>...</th>\n",
       "      <td>...</td>\n",
       "      <td>...</td>\n",
       "      <td>...</td>\n",
       "      <td>...</td>\n",
       "      <td>...</td>\n",
       "      <td>...</td>\n",
       "    </tr>\n",
       "    <tr>\n",
       "      <th>854</th>\n",
       "      <td>None</td>\n",
       "      <td>Block Group 1, Census Tract 69, Milwaukee Coun...</td>\n",
       "      <td>55</td>\n",
       "      <td>079</td>\n",
       "      <td>006900</td>\n",
       "      <td>1</td>\n",
       "    </tr>\n",
       "    <tr>\n",
       "      <th>855</th>\n",
       "      <td>None</td>\n",
       "      <td>Block Group 1, Census Tract 76, Milwaukee Coun...</td>\n",
       "      <td>55</td>\n",
       "      <td>079</td>\n",
       "      <td>007600</td>\n",
       "      <td>1</td>\n",
       "    </tr>\n",
       "    <tr>\n",
       "      <th>856</th>\n",
       "      <td>None</td>\n",
       "      <td>Block Group 1, Census Tract 85, Milwaukee Coun...</td>\n",
       "      <td>55</td>\n",
       "      <td>079</td>\n",
       "      <td>008500</td>\n",
       "      <td>1</td>\n",
       "    </tr>\n",
       "    <tr>\n",
       "      <th>857</th>\n",
       "      <td>None</td>\n",
       "      <td>Block Group 5, Census Tract 199, Milwaukee Cou...</td>\n",
       "      <td>55</td>\n",
       "      <td>079</td>\n",
       "      <td>019900</td>\n",
       "      <td>5</td>\n",
       "    </tr>\n",
       "    <tr>\n",
       "      <th>858</th>\n",
       "      <td>None</td>\n",
       "      <td>Block Group 4, Census Tract 62, Milwaukee Coun...</td>\n",
       "      <td>55</td>\n",
       "      <td>079</td>\n",
       "      <td>006200</td>\n",
       "      <td>4</td>\n",
       "    </tr>\n",
       "  </tbody>\n",
       "</table>\n",
       "<p>859 rows × 6 columns</p>\n",
       "</div>"
      ],
      "text/plain": [
       "    B06012_001E  ... block group\n",
       "0          None  ...           1\n",
       "1          None  ...           3\n",
       "2          None  ...           2\n",
       "3          None  ...           3\n",
       "4          None  ...           2\n",
       "..          ...  ...         ...\n",
       "854        None  ...           1\n",
       "855        None  ...           1\n",
       "856        None  ...           1\n",
       "857        None  ...           5\n",
       "858        None  ...           4\n",
       "\n",
       "[859 rows x 6 columns]"
      ]
     },
     "execution_count": 12,
     "metadata": {
      "tags": []
     },
     "output_type": "execute_result"
    }
   ],
   "source": [
    "import requests\n",
    "import pandas as pd\n",
    "\n",
    "#https://api.census.gov/data/2018/acs/acs5?get=B00001_001E&for=block%20group:*&in=state:01&in=county:025&in=tract:*&key=YOUR_KEY_GOES_HERE\n",
    "\n",
    "\n",
    "# wild card * not allowed for county? maybe loop over counties\n",
    "\n",
    "year = '2018'\n",
    "dsource = 'acs'\n",
    "dname = 'acs5'\n",
    "cols = 'B06012_001E,NAME'\n",
    "state = '55'\n",
    "county = '079'\n",
    "tract = '*'\n",
    "block_group = '*'\n",
    "\n",
    "base_url = f'https://api.census.gov/data/{year}/{dsource}/{dname}/'\n",
    "\n",
    "data_url = f'{base_url}?get={cols}&for=block%20group:{block_group}&in=state:{state}&in=county:{county}&in=tract:{tract}'\n",
    "\n",
    "response = requests.get(data_url)\n",
    "\n",
    "data = pd.DataFrame(columns=response.json()[0], data=response.json()[1:])\n"
   ]
  },
  {
   "cell_type": "markdown",
   "metadata": {
    "id": "QczShQWlmiaK"
   },
   "source": [
    "## SF1"
   ]
  },
  {
   "cell_type": "markdown",
   "metadata": {
    "id": "KksDXU49_ixS"
   },
   "source": [
    "### state > county"
   ]
  },
  {
   "cell_type": "code",
   "execution_count": null,
   "metadata": {
    "colab": {
     "base_uri": "https://localhost:8080/",
     "height": 419
    },
    "id": "p_7wm1NCjsty",
    "outputId": "26d5b0b7-341e-42f2-abef-99dd4d2cd3eb"
   },
   "outputs": [
    {
     "data": {
      "text/html": [
       "<div>\n",
       "<style scoped>\n",
       "    .dataframe tbody tr th:only-of-type {\n",
       "        vertical-align: middle;\n",
       "    }\n",
       "\n",
       "    .dataframe tbody tr th {\n",
       "        vertical-align: top;\n",
       "    }\n",
       "\n",
       "    .dataframe thead th {\n",
       "        text-align: right;\n",
       "    }\n",
       "</style>\n",
       "<table border=\"1\" class=\"dataframe\">\n",
       "  <thead>\n",
       "    <tr style=\"text-align: right;\">\n",
       "      <th></th>\n",
       "      <th>P001001</th>\n",
       "      <th>NAME</th>\n",
       "      <th>state</th>\n",
       "      <th>county</th>\n",
       "    </tr>\n",
       "  </thead>\n",
       "  <tbody>\n",
       "    <tr>\n",
       "      <th>0</th>\n",
       "      <td>39364</td>\n",
       "      <td>Harrison County, Indiana</td>\n",
       "      <td>18</td>\n",
       "      <td>061</td>\n",
       "    </tr>\n",
       "    <tr>\n",
       "      <th>1</th>\n",
       "      <td>33478</td>\n",
       "      <td>Jasper County, Indiana</td>\n",
       "      <td>18</td>\n",
       "      <td>073</td>\n",
       "    </tr>\n",
       "    <tr>\n",
       "      <th>2</th>\n",
       "      <td>70002</td>\n",
       "      <td>Hancock County, Indiana</td>\n",
       "      <td>18</td>\n",
       "      <td>059</td>\n",
       "    </tr>\n",
       "    <tr>\n",
       "      <th>3</th>\n",
       "      <td>145448</td>\n",
       "      <td>Hendricks County, Indiana</td>\n",
       "      <td>18</td>\n",
       "      <td>063</td>\n",
       "    </tr>\n",
       "    <tr>\n",
       "      <th>4</th>\n",
       "      <td>49462</td>\n",
       "      <td>Henry County, Indiana</td>\n",
       "      <td>18</td>\n",
       "      <td>065</td>\n",
       "    </tr>\n",
       "    <tr>\n",
       "      <th>...</th>\n",
       "      <td>...</td>\n",
       "      <td>...</td>\n",
       "      <td>...</td>\n",
       "      <td>...</td>\n",
       "    </tr>\n",
       "    <tr>\n",
       "      <th>87</th>\n",
       "      <td>16212</td>\n",
       "      <td>Vermillion County, Indiana</td>\n",
       "      <td>18</td>\n",
       "      <td>165</td>\n",
       "    </tr>\n",
       "    <tr>\n",
       "      <th>88</th>\n",
       "      <td>107848</td>\n",
       "      <td>Vigo County, Indiana</td>\n",
       "      <td>18</td>\n",
       "      <td>167</td>\n",
       "    </tr>\n",
       "    <tr>\n",
       "      <th>89</th>\n",
       "      <td>15936</td>\n",
       "      <td>Tipton County, Indiana</td>\n",
       "      <td>18</td>\n",
       "      <td>159</td>\n",
       "    </tr>\n",
       "    <tr>\n",
       "      <th>90</th>\n",
       "      <td>7516</td>\n",
       "      <td>Union County, Indiana</td>\n",
       "      <td>18</td>\n",
       "      <td>161</td>\n",
       "    </tr>\n",
       "    <tr>\n",
       "      <th>91</th>\n",
       "      <td>179703</td>\n",
       "      <td>Vanderburgh County, Indiana</td>\n",
       "      <td>18</td>\n",
       "      <td>163</td>\n",
       "    </tr>\n",
       "  </tbody>\n",
       "</table>\n",
       "<p>92 rows × 4 columns</p>\n",
       "</div>"
      ],
      "text/plain": [
       "   P001001                         NAME state county\n",
       "0    39364     Harrison County, Indiana    18    061\n",
       "1    33478       Jasper County, Indiana    18    073\n",
       "2    70002      Hancock County, Indiana    18    059\n",
       "3   145448    Hendricks County, Indiana    18    063\n",
       "4    49462        Henry County, Indiana    18    065\n",
       "..     ...                          ...   ...    ...\n",
       "87   16212   Vermillion County, Indiana    18    165\n",
       "88  107848         Vigo County, Indiana    18    167\n",
       "89   15936       Tipton County, Indiana    18    159\n",
       "90    7516        Union County, Indiana    18    161\n",
       "91  179703  Vanderburgh County, Indiana    18    163\n",
       "\n",
       "[92 rows x 4 columns]"
      ]
     },
     "execution_count": 1,
     "metadata": {
      "tags": []
     },
     "output_type": "execute_result"
    }
   ],
   "source": [
    "import requests\n",
    "import pandas as pd\n",
    "\n",
    "year = '2010'\n",
    "dsource = 'dec'\n",
    "dname = 'sf1'\n",
    "cols = 'P001001,NAME'\n",
    "state = '18'\n",
    "county = '*'\n",
    "\n",
    "\n",
    "base_url = f'https://api.census.gov/data/{year}/{dsource}/{dname}/'\n",
    "\n",
    "data_url = f'{base_url}?get={cols}&for=county:{county}&in=state:{state}'\n",
    "\n",
    "response = requests.get(data_url)\n",
    "\n",
    "data = pd.DataFrame(columns=response.json()[0], data=response.json()[1:])\n"
   ]
  },
  {
   "cell_type": "markdown",
   "metadata": {
    "id": "g1yhPBk9_lFp"
   },
   "source": [
    "### state > county > tract"
   ]
  },
  {
   "cell_type": "code",
   "execution_count": null,
   "metadata": {
    "id": "jUUXoynT_3a8"
   },
   "outputs": [],
   "source": [
    "#https://api.census.gov/data/2000/dec/sf1?get=P001001,NAME&for=tract:*&in=state:01&key=YOUR_KEY_GOES_HERE\n",
    "\n",
    "\n",
    "year = '2010'\n",
    "dsource = 'dec'\n",
    "dname = 'sf1'\n",
    "cols = 'P001001,NAME'\n",
    "state = '18'\n",
    "tract = '*'\n",
    "\n",
    "base_url = f'https://api.census.gov/data/{year}/{dsource}/{dname}/'\n",
    "\n",
    "\n",
    "data_url = f'{base_url}?get={cols}&for=tract:{tract}&in=state:{state}'\n",
    "response = requests.get(data_url)\n",
    "#print(data_url)\n",
    "#print(response.text)\n",
    "\n",
    "data = pd.DataFrame(columns=response.json()[0], data=response.json()[1:])\n",
    "data"
   ]
  },
  {
   "cell_type": "markdown",
   "metadata": {
    "id": "ExGOSkRsCfAL"
   },
   "source": [
    "### state > county > tract > block"
   ]
  },
  {
   "cell_type": "code",
   "execution_count": null,
   "metadata": {
    "id": "fp77r4lJ_3YV"
   },
   "outputs": [],
   "source": [
    "'https://api.census.gov/data/2000/dec/sf1?get=P001001,NAME&for=block:*&in=state:04%20county:005&key=YOUR_KEY_GOES_HERE'\n",
    "\n",
    "year = '2010'\n",
    "dsource = 'dec'\n",
    "dname = 'sf1'\n",
    "cols = 'P001001,NAME'\n",
    "state = '18'\n",
    "county = '*'\n",
    "tract = '*'\n",
    "block = '*'\n",
    "\n",
    "base_url = f'https://api.census.gov/data/{year}/{dsource}/{dname}/'\n",
    "\n",
    "data_url = f'{base_url}?get={cols}&for=block:{block}&in=state:{state}%20county:{county}'\n",
    "response = requests.get(data_url)\n",
    "#print(data_url)\n",
    "#print(response.text)\n",
    "\n",
    "data = pd.DataFrame(columns=response.json()[0], data=response.json()[1:])\n",
    "data"
   ]
  },
  {
   "cell_type": "markdown",
   "metadata": {
    "id": "gwy-l-F5D1wb"
   },
   "source": [
    "### state > county > tract > block group"
   ]
  },
  {
   "cell_type": "code",
   "execution_count": null,
   "metadata": {
    "id": "nd7R_639Dnpy"
   },
   "outputs": [],
   "source": [
    "#\thttps://api.census.gov/data/2000/dec/sf1?get=P001001,NAME&for=block%20group:*&in=state:17%20county:097&key=YOUR_KEY_GOES_HERE\n",
    "\n",
    "year = '2010'\n",
    "dsource = 'dec'\n",
    "dname = 'sf1'\n",
    "cols = 'P001001,NAME'\n",
    "state = '18'\n",
    "county = '*'\n",
    "tract = '*'\n",
    "block = '*'\n",
    "group = '*'\n",
    "\n",
    "base_url = f'https://api.census.gov/data/{year}/{dsource}/{dname}/'\n",
    "\n",
    "data_url = f'{base_url}?get={cols}&for=block%20group:{group}&in=state:{state}%20county:{county}'\n",
    "response = requests.get(data_url)\n",
    "\n",
    "\n",
    "#print(data_url)\n",
    "#print(response.text)\n",
    "\n",
    "data = pd.DataFrame(columns=response.json()[0], data=response.json()[1:])"
   ]
  }
 ],
 "metadata": {
  "colab": {
   "collapsed_sections": [],
   "name": "ACS & SF1.ipynb",
   "provenance": []
  },
  "kernelspec": {
   "display_name": "Python 3",
   "language": "python",
   "name": "python3"
  },
  "language_info": {
   "codemirror_mode": {
    "name": "ipython",
    "version": 3
   },
   "file_extension": ".py",
   "mimetype": "text/x-python",
   "name": "python",
   "nbconvert_exporter": "python",
   "pygments_lexer": "ipython3",
   "version": "3.8.2"
  }
 },
 "nbformat": 4,
 "nbformat_minor": 1
}

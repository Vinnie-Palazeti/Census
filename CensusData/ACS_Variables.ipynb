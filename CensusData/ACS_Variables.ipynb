{
  "nbformat": 4,
  "nbformat_minor": 0,
  "metadata": {
    "colab": {
      "name": "ACS Variables.ipynb",
      "provenance": []
    },
    "kernelspec": {
      "name": "python3",
      "display_name": "Python 3"
    }
  },
  "cells": [
    {
      "cell_type": "code",
      "metadata": {
        "id": "hBv0f121h2Gy"
      },
      "source": [
        "import requests\n",
        "import pandas as pd\n",
        "from bs4 import BeautifulSoup"
      ],
      "execution_count": 2,
      "outputs": []
    },
    {
      "cell_type": "code",
      "metadata": {
        "id": "WpLLHIwjiFEo"
      },
      "source": [
        "url = 'https://api.census.gov/data/2018/acs/acs5/variables.html'\n",
        "\n",
        "page = requests.get(url)\n",
        "soup = BeautifulSoup(page.content,\"html.parser\")\n",
        "\n",
        "td = [t.get_text() for t in soup.select(\"td\")]\n",
        "td = td[41:]\n",
        "\n",
        "names = td[1:len(td):8]\n",
        "names = [n.replace('!!', ' ') for n in names]\n",
        "vars = td[0:len(td):8]\n",
        "concept = td[2:len(td):8]\n",
        "\n",
        "frame = pd.DataFrame({\n",
        "    \"Label\": names,\n",
        "    \"Variable\": vars,\n",
        "    \"Concept\": concept\n",
        "\n",
        "})\n",
        "\n",
        "frame = frame.query('Label != \"Geography\"')\n",
        "frame = frame.iloc[:-4,:]"
      ],
      "execution_count": 3,
      "outputs": []
    },
    {
      "cell_type": "code",
      "metadata": {
        "id": "jTztFo6Ki_o8"
      },
      "source": [
        "#frame.to_csv(\"ACS Variables.csv\")\n",
        "#frame.to_json(\"ACS Variables.json\")\n",
        "#frame.to_excel(\"ACS Variables.xslx\")"
      ],
      "execution_count": null,
      "outputs": []
    }
  ]
}
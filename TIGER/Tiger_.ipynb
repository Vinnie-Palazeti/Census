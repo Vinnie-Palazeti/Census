{
  "nbformat": 4,
  "nbformat_minor": 0,
  "metadata": {
    "colab": {
      "name": "Tiger .ipynb",
      "provenance": [],
      "collapsed_sections": []
    },
    "kernelspec": {
      "name": "python3",
      "display_name": "Python 3"
    }
  },
  "cells": [
    {
      "cell_type": "markdown",
      "metadata": {
        "id": "XR5pL-IN6Pip"
      },
      "source": [
        "## Tiger County Shapefile"
      ]
    },
    {
      "cell_type": "code",
      "metadata": {
        "id": "RdLvQD1hAsUk"
      },
      "source": [
        "# Required in Colab\n",
        "#!pip install mapclassify\n",
        "#!pip install geopandas"
      ],
      "execution_count": null,
      "outputs": []
    },
    {
      "cell_type": "code",
      "metadata": {
        "id": "7mI8ANcg6TTa"
      },
      "source": [
        "import geopandas as gpd\n",
        "import requests\n",
        "import zipfile\n",
        "import io\n",
        "import matplotlib.pyplot as plt"
      ],
      "execution_count": null,
      "outputs": []
    },
    {
      "cell_type": "code",
      "metadata": {
        "id": "UJfMMv5r6TY-",
        "outputId": "940bd1c3-85e8-4b64-e817-99b622699d77",
        "colab": {
          "base_uri": "https://localhost:8080/",
          "height": 68
        }
      },
      "source": [
        "# Change number after 2018 for different state\n",
        "url = 'https://www2.census.gov/geo/tiger/TIGER2018/TRACT/tl_2018_17_tract.zip'\n",
        "local_path = 'tmp/'\n",
        "\n",
        "print('Downloading shapefile...')\n",
        "r = requests.get(url)\n",
        "z = zipfile.ZipFile(io.BytesIO(r.content))\n",
        "print(\"Done\")\n",
        "\n",
        "z.extractall(path=local_path) # extract to folder\n",
        "filenames = [y for y in sorted(z.namelist()) for ending in ['dbf', 'prj', 'shp', 'shx'] if y.endswith(ending)] \n",
        "print(filenames)"
      ],
      "execution_count": null,
      "outputs": [
        {
          "output_type": "stream",
          "text": [
            "Downloading shapefile...\n",
            "Done\n",
            "['tl_2018_17_tract.dbf', 'tl_2018_17_tract.prj', 'tl_2018_17_tract.shp', 'tl_2018_17_tract.shx']\n"
          ],
          "name": "stdout"
        }
      ]
    },
    {
      "cell_type": "code",
      "metadata": {
        "id": "wEoGImv46TWd"
      },
      "source": [
        "dbf, prj, shp, shx = [filename for filename in filenames]\n",
        "illinois = gpd.read_file(local_path + shp)\n",
        "ax = illinois.plot(figsize=(20,20))\n",
        "ax.set_title(\"Illinois Tracts. Default view\", color = 'white')"
      ],
      "execution_count": null,
      "outputs": []
    },
    {
      "cell_type": "code",
      "metadata": {
        "id": "W5UvwenC72pq"
      },
      "source": [
        "cook = illinois.query('COUNTYFP == \"031\"')\n",
        "cook =cook.rename(columns={'TRACTCE':'GEO_TRACT'})\n",
        "cook"
      ],
      "execution_count": null,
      "outputs": []
    },
    {
      "cell_type": "code",
      "metadata": {
        "id": "aK8WYBYw7vnb"
      },
      "source": [
        "ax = cook.plot(figsize=(20,20), column='ALAND', cmap=\"tab20b\", scheme='quantiles', legend=True)\n",
        "ax.set(xticks=[], yticks=[]) #removes axes\n",
        "ax.set_title(\"Cook County Tracts by Land Area\", fontsize='large', color = \"white\")\n",
        "ax.get_legend().remove()"
      ],
      "execution_count": null,
      "outputs": []
    },
    {
      "cell_type": "markdown",
      "metadata": {
        "id": "7DUS_NzJOons"
      },
      "source": [
        "# Census Data Query + Plotting"
      ]
    },
    {
      "cell_type": "code",
      "metadata": {
        "id": "W8oDBTanOv9K"
      },
      "source": [
        "result = pd.merge(cook,data, on='GEO_TRACT')"
      ],
      "execution_count": null,
      "outputs": []
    },
    {
      "cell_type": "code",
      "metadata": {
        "id": "4hu_drzIOv_y"
      },
      "source": [
        "ax = result.plot(figsize=(20,20), column='WHITE POP', cmap=\"viridis\", scheme='quantiles', legend=True)\n",
        "ax.set(xticks=[], yticks=[]) #removes axes\n",
        "ax.set_title(\"Cook County Tracts by Land Area\", fontsize='large', color = \"white\")\n",
        "#ax.get_legend().remove()\n",
        "\n",
        "# Check out other cmap choices https://matplotlib.org/3.1.0/tutorials/colors/colormaps.html"
      ],
      "execution_count": null,
      "outputs": []
    }
  ]
}